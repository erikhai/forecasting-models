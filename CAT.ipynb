{
 "cells": [
  {
   "cell_type": "markdown",
   "metadata": {},
   "source": [
    "Let's first load the dataset and see if we can get information from it"
   ]
  },
  {
   "cell_type": "code",
   "execution_count": 1,
   "metadata": {},
   "outputs": [
    {
     "name": "stdout",
     "output_type": "stream",
     "text": [
      "<class 'pandas.core.frame.DataFrame'>\n",
      "RangeIndex: 11160 entries, 0 to 11159\n",
      "Data columns (total 17 columns):\n",
      " #   Column                    Non-Null Count  Dtype  \n",
      "---  ------                    --------------  -----  \n",
      " 0   price                     11160 non-null  int64  \n",
      " 1   date_sold                 11160 non-null  object \n",
      " 2   suburb                    11160 non-null  object \n",
      " 3   num_bath                  11160 non-null  int64  \n",
      " 4   num_bed                   11160 non-null  int64  \n",
      " 5   num_parking               11160 non-null  int64  \n",
      " 6   property_size             11160 non-null  int64  \n",
      " 7   type                      11160 non-null  object \n",
      " 8   suburb_population         11160 non-null  int64  \n",
      " 9   suburb_median_income      11160 non-null  int64  \n",
      " 10  suburb_sqkm               11160 non-null  float64\n",
      " 11  suburb_lat                11160 non-null  float64\n",
      " 12  suburb_lng                11160 non-null  float64\n",
      " 13  suburb_elevation          11160 non-null  int64  \n",
      " 14  cash_rate                 11160 non-null  float64\n",
      " 15  property_inflation_index  11160 non-null  float64\n",
      " 16  km_from_cbd               11160 non-null  float64\n",
      "dtypes: float64(6), int64(8), object(3)\n",
      "memory usage: 1.4+ MB\n"
     ]
    },
    {
     "data": {
      "text/plain": [
       "(    price date_sold         suburb  num_bath  num_bed  num_parking  \\\n",
       " 0  530000   13/1/16      Kincumber         4        4            2   \n",
       " 1  525000   13/1/16     Halekulani         2        4            2   \n",
       " 2  480000   13/1/16  Chittaway Bay         2        4            2   \n",
       " 3  452000   13/1/16        Leumeah         1        3            1   \n",
       " 4  365500   13/1/16    North Avoca         0        0            0   \n",
       " \n",
       "    property_size         type  suburb_population  suburb_median_income  \\\n",
       " 0           1351        House               7093                 29432   \n",
       " 1            594        House               2538                 24752   \n",
       " 2            468        House               2028                 31668   \n",
       " 3            344        House               9835                 32292   \n",
       " 4           1850  Vacant land               2200                 45084   \n",
       " \n",
       "    suburb_sqkm  suburb_lat  suburb_lng  suburb_elevation  cash_rate  \\\n",
       " 0        9.914   -33.47252   151.40208                24        2.0   \n",
       " 1        1.397   -33.21772   151.55237                23        2.0   \n",
       " 2        1.116   -33.32678   151.44557                 3        2.0   \n",
       " 3        4.055   -34.05375   150.83957                81        2.0   \n",
       " 4        1.497   -33.45608   151.43598                18        2.0   \n",
       " \n",
       "    property_inflation_index  km_from_cbd  \n",
       " 0                     150.9        47.05  \n",
       " 1                     150.9        78.54  \n",
       " 2                     150.9        63.59  \n",
       " 3                     150.9        40.12  \n",
       " 4                     150.9        49.98  ,\n",
       " None)"
      ]
     },
     "execution_count": 1,
     "metadata": {},
     "output_type": "execute_result"
    }
   ],
   "source": [
    "import pandas as pd\n",
    "\n",
    "# Load the dataset\n",
    "file_path = 'domain_properties.csv'\n",
    "data = pd.read_csv(file_path)\n",
    "\n",
    "# Display the first few rows of the dataset to understand its structure\n",
    "data.head(), data.info()\n"
   ]
  },
  {
   "cell_type": "markdown",
   "metadata": {},
   "source": [
    "Using the CatBoost model and then checking its performance."
   ]
  },
  {
   "cell_type": "code",
   "execution_count": 5,
   "metadata": {},
   "outputs": [
    {
     "name": "stdout",
     "output_type": "stream",
     "text": [
      "MAE: 313687.39225696994\n",
      "RMSE: 631309.6028879706\n",
      "R^2: 0.7072074147967327\n"
     ]
    }
   ],
   "source": [
    "import pandas as pd\n",
    "from catboost import CatBoostRegressor\n",
    "from sklearn.model_selection import train_test_split\n",
    "from sklearn.metrics import mean_absolute_error, mean_squared_error, r2_score\n",
    "\n",
    "# Load the dataset\n",
    "data = pd.read_csv('domain_properties.csv')\n",
    "\n",
    "# Convert 'date_sold' to datetime\n",
    "data['date_sold'] = pd.to_datetime(data['date_sold'], format='%d/%m/%y')\n",
    "\n",
    "data['year_sold'] = data['date_sold'].dt.year\n",
    "data['month_sold'] = data['date_sold'].dt.month\n",
    "# Adding a year sold and a month sold column \n",
    "# to the dataset. This allows catboosting to \n",
    "# handle datetime objects\n",
    "\n",
    "# Separate features and target\n",
    "X = data.drop(columns=['price', 'date_sold'])\n",
    "y = data['price']\n",
    "\n",
    "# Identify categorical columns\n",
    "categorical_features = ['suburb', 'type', 'year_sold', 'month_sold'] \n",
    "# These columns represent categories \n",
    "# rather than continuous numerical values and \n",
    "# need to be treated differently in the model.\n",
    "\n",
    "# Split the data into training and test sets\n",
    "X_train, X_test, y_train, y_test = train_test_split(X, y, test_size=0.2, random_state=42)\n",
    "# Use 80% of the dataset for training and 20% for testing.\n",
    "\n",
    "# Initialize and train the CatBoost Regressor\n",
    "model = CatBoostRegressor(cat_features=categorical_features, verbose=0)\n",
    "model.fit(X_train, y_train)\n",
    "\n",
    "# Predict and evaluate the model\n",
    "y_pred = model.predict(X_test)\n",
    "\n",
    "mae = mean_absolute_error(y_test, y_pred)\n",
    "mse = mean_squared_error(y_test, y_pred)\n",
    "rmse = mse ** 0.5\n",
    "r2 = r2_score(y_test, y_pred)\n",
    "\n",
    "print(f'MAE: {mae}')\n",
    "print(f'RMSE: {rmse}')\n",
    "print(f'R^2: {r2}')\n"
   ]
  },
  {
   "cell_type": "markdown",
   "metadata": {},
   "source": [
    "MAE: Mean Absolute Error measures the average size of the mistakes in a collection of predictions, without taking their direction into account. It is measured as the average absolute difference between the predicted values and the actual values and is used to assess the effectiveness of a regression model. If we assume that there is a linear relationship between features and the target features, then it works really well for cat boosting. It is also simple to unsterdatnd and calculate. Our MAE is $313687\n",
    "RMSE: RMSE is particularly useful when you want to penalize larger errors more heavily. RMSE tends to produce smoother gradients, which can be beneficial during the optimization process in gradient boosting models like CatBoost. Our RMSE is $631309\n",
    "R^2: An R² value close to 1 suggests that the model explains most of the variability in the data, indicating a good fit. R² allows for easy comparison of the model's performance with other models or benchmarks. Our R^2 is 0.71, which indicates that the model needs a lot more improvement"
   ]
  },
  {
   "cell_type": "code",
   "execution_count": 7,
   "metadata": {},
   "outputs": [
    {
     "name": "stdout",
     "output_type": "stream",
     "text": [
      "Mean: 1675395.2672939068\n",
      "Median: 1388000.0\n",
      "Q1 (25th percentile): 1002000.0\n",
      "Q3 (75th percentile): 2020000.0\n",
      "IQR (Interquartile Range): 1018000.0\n",
      "Lowest Value: 225000\n",
      "Highest Value: 60000000\n"
     ]
    }
   ],
   "source": [
    "df = pd.DataFrame(data)\n",
    "\n",
    "# Calculate Mean\n",
    "mean_value = df['price'].mean()\n",
    "\n",
    "# Calculate Median\n",
    "median_value = df['price'].median()\n",
    "\n",
    "# Calculate Q1 (25th percentile)\n",
    "Q1 = df['price'].quantile(0.25)\n",
    "\n",
    "# Calculate Q3 (75th percentile)\n",
    "Q3 = df['price'].quantile(0.75)\n",
    "\n",
    "# Calculate Interquartile Range (IQR)\n",
    "IQR = Q3 - Q1\n",
    "\n",
    "# Output the results\n",
    "print(\"Mean:\", mean_value)\n",
    "print(\"Median:\", median_value)\n",
    "print(\"Q1 (25th percentile):\", Q1)\n",
    "print(\"Q3 (75th percentile):\", Q3)\n",
    "print(\"IQR (Interquartile Range):\", IQR)\n",
    "\n",
    "# Find the lowest value\n",
    "lowest_value = df['price'].min()\n",
    "\n",
    "# Find the highest value\n",
    "highest_value = df['price'].max()\n",
    "\n",
    "# Output the results\n",
    "print(\"Lowest Value:\", lowest_value)\n",
    "print(\"Highest Value:\", highest_value)"
   ]
  },
  {
   "cell_type": "markdown",
   "metadata": {},
   "source": [
    "Choose MAE if you want a straightforward average error metric that is not too sensitive to outliers. Choose RMSE if avoiding large errors is critical or if you're optimizing models where smooth gradients are beneficial."
   ]
  },
  {
   "cell_type": "markdown",
   "metadata": {},
   "source": [
    "From the dataset, we can see that the lowest value is $225,000 and the highest value is $60,000,000, we need to foucs on improving the results of RMSE. Since 75% of the prices are less than $2,020,000, a RMSE of $631,309 indicates that our model needs improvement."
   ]
  }
 ],
 "metadata": {
  "kernelspec": {
   "display_name": "Python 3",
   "language": "python",
   "name": "python3"
  },
  "language_info": {
   "codemirror_mode": {
    "name": "ipython",
    "version": 3
   },
   "file_extension": ".py",
   "mimetype": "text/x-python",
   "name": "python",
   "nbconvert_exporter": "python",
   "pygments_lexer": "ipython3",
   "version": "3.10.2"
  }
 },
 "nbformat": 4,
 "nbformat_minor": 2
}
